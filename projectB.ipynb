{
 "cells": [
  {
   "cell_type": "code",
   "execution_count": 5,
   "metadata": {},
   "outputs": [
    {
     "name": "stdout",
     "output_type": "stream",
     "text": [
      "  Invoice StockCode                          Description  Quantity  \\\n",
      "0  489434     85048  15CM CHRISTMAS GLASS BALL 20 LIGHTS        12   \n",
      "1  489434    79323P                   PINK CHERRY LIGHTS        12   \n",
      "2  489434    79323W                  WHITE CHERRY LIGHTS        12   \n",
      "3  489434     22041         RECORD FRAME 7\" SINGLE SIZE         48   \n",
      "4  489434     21232       STRAWBERRY CERAMIC TRINKET BOX        24   \n",
      "\n",
      "      InvoiceDate  Price  Customer ID         Country  \n",
      "0  12/1/2009 7:45   6.95      13085.0  United Kingdom  \n",
      "1  12/1/2009 7:45   6.75      13085.0  United Kingdom  \n",
      "2  12/1/2009 7:45   6.75      13085.0  United Kingdom  \n",
      "3  12/1/2009 7:45   2.10      13085.0  United Kingdom  \n",
      "4  12/1/2009 7:45   1.25      13085.0  United Kingdom  \n"
     ]
    }
   ],
   "source": [
    "import pandas as pd\n",
    "\n",
    "# File paths\n",
    "file_2010_2011= \"data/online_retail_II.csv\"\n",
    "file_2009_2010 = \"data/online_retail_II2.csv\"\n",
    "\n",
    "# Load datasets\n",
    "data_2009_2010 = pd.read_csv(file_2009_2010)\n",
    "data_2010_2011 = pd.read_csv(file_2010_2011)\n",
    "\n",
    "# Combine both datasets\n",
    "data = pd.concat([data_2009_2010, data_2010_2011], ignore_index=True)\n",
    "\n",
    "# Display first few rows to verify loading\n",
    "print(data.head())"
   ]
  }
 ],
 "metadata": {
  "kernelspec": {
   "display_name": "myenvironment",
   "language": "python",
   "name": "python3"
  },
  "language_info": {
   "codemirror_mode": {
    "name": "ipython",
    "version": 3
   },
   "file_extension": ".py",
   "mimetype": "text/x-python",
   "name": "python",
   "nbconvert_exporter": "python",
   "pygments_lexer": "ipython3",
   "version": "3.10.14"
  }
 },
 "nbformat": 4,
 "nbformat_minor": 2
}
